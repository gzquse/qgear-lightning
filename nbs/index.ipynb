{
 "cells": [
  {
   "cell_type": "markdown",
   "metadata": {},
   "source": [
    "# qgear-lightning"
   ]
  },
  {
   "cell_type": "markdown",
   "metadata": {},
   "source": [
    "## Usage"
   ]
  },
  {
   "cell_type": "markdown",
   "metadata": {},
   "source": [
    "### Installation\n",
    "\n",
    "`pip install qgear-lightning`"
   ]
  },
  {
   "cell_type": "markdown",
   "metadata": {},
   "source": [
    "## How to use"
   ]
  },
  {
   "cell_type": "code",
   "execution_count": null,
   "metadata": {},
   "outputs": [
    {
     "name": "stdout",
     "output_type": "stream",
     "text": [
      "/bin/bash: /pscratch/sd/g/gzquse/cudaq/lib/libtinfo.so.6: no version information available (required by /lib64/libreadline.so.7)\n",
      "Collecting qgear-lightning\n",
      "  Downloading qgear_lightning-0.0.1-py3-none-any.whl.metadata (2.5 kB)\n",
      "Requirement already satisfied: cudaq in /pscratch/sd/g/gzquse/cudaq/lib/python3.11/site-packages (from qgear-lightning) (0.10.0)\n",
      "Requirement already satisfied: h5py in /pscratch/sd/g/gzquse/cudaq/lib/python3.11/site-packages (from qgear-lightning) (3.13.0)\n",
      "Requirement already satisfied: numpy in /pscratch/sd/g/gzquse/cudaq/lib/python3.11/site-packages (from qgear-lightning) (2.2.6)\n",
      "Requirement already satisfied: pillow in /pscratch/sd/g/gzquse/cudaq/lib/python3.11/site-packages (from qgear-lightning) (11.2.1)\n",
      "Requirement already satisfied: qiskit in /pscratch/sd/g/gzquse/cudaq/lib/python3.11/site-packages (from qgear-lightning) (2.1.2)\n",
      "Requirement already satisfied: cuda-quantum-cu12==0.10.0 in /pscratch/sd/g/gzquse/cudaq/lib/python3.11/site-packages (from cudaq->qgear-lightning) (0.10.0)\n",
      "Requirement already satisfied: astpretty~=3.0 in /pscratch/sd/g/gzquse/cudaq/lib/python3.11/site-packages (from cuda-quantum-cu12==0.10.0->cudaq->qgear-lightning) (3.0.0)\n",
      "Requirement already satisfied: cuquantum-python-cu12>=25.03 in /pscratch/sd/g/gzquse/cudaq/lib/python3.11/site-packages (from cuda-quantum-cu12==0.10.0->cudaq->qgear-lightning) (25.3.0)\n",
      "Requirement already satisfied: scipy>=1.10.1 in /pscratch/sd/g/gzquse/cudaq/lib/python3.11/site-packages (from cuda-quantum-cu12==0.10.0->cudaq->qgear-lightning) (1.15.2)\n",
      "Requirement already satisfied: requests>=2.31 in /pscratch/sd/g/gzquse/cudaq/lib/python3.11/site-packages (from cuda-quantum-cu12==0.10.0->cudaq->qgear-lightning) (2.32.3)\n",
      "Requirement already satisfied: nvidia-cublas-cu12~=12.0 in /pscratch/sd/g/gzquse/cudaq/lib/python3.11/site-packages (from cuda-quantum-cu12==0.10.0->cudaq->qgear-lightning) (12.6.4.1)\n",
      "Requirement already satisfied: nvidia-curand-cu12~=10.3 in /pscratch/sd/g/gzquse/cudaq/lib/python3.11/site-packages (from cuda-quantum-cu12==0.10.0->cudaq->qgear-lightning) (10.3.7.77)\n",
      "Requirement already satisfied: nvidia-cuda-runtime-cu12~=12.0 in /pscratch/sd/g/gzquse/cudaq/lib/python3.11/site-packages (from cuda-quantum-cu12==0.10.0->cudaq->qgear-lightning) (12.6.77)\n",
      "Requirement already satisfied: nvidia-cusolver-cu12~=11.4 in /pscratch/sd/g/gzquse/cudaq/lib/python3.11/site-packages (from cuda-quantum-cu12==0.10.0->cudaq->qgear-lightning) (11.7.1.2)\n",
      "Requirement already satisfied: nvidia-cuda-nvrtc-cu12~=12.0 in /pscratch/sd/g/gzquse/cudaq/lib/python3.11/site-packages (from cuda-quantum-cu12==0.10.0->cudaq->qgear-lightning) (12.6.77)\n",
      "Requirement already satisfied: rustworkx>=0.15.0 in /pscratch/sd/g/gzquse/cudaq/lib/python3.11/site-packages (from qiskit->qgear-lightning) (0.16.0)\n",
      "Requirement already satisfied: dill>=0.3 in /pscratch/sd/g/gzquse/cudaq/lib/python3.11/site-packages (from qiskit->qgear-lightning) (0.4.0)\n",
      "Requirement already satisfied: stevedore>=3.0.0 in /pscratch/sd/g/gzquse/cudaq/lib/python3.11/site-packages (from qiskit->qgear-lightning) (5.4.1)\n",
      "Requirement already satisfied: typing-extensions in /pscratch/sd/g/gzquse/cudaq/lib/python3.11/site-packages (from qiskit->qgear-lightning) (4.14.1)\n",
      "Requirement already satisfied: pbr>=2.0.0 in /pscratch/sd/g/gzquse/cudaq/lib/python3.11/site-packages (from stevedore>=3.0.0->qiskit->qgear-lightning) (6.1.1)\n",
      "Requirement already satisfied: custatevec-cu12~=1.8 in /pscratch/sd/g/gzquse/cudaq/lib/python3.11/site-packages (from cuquantum-python-cu12>=25.03->cuda-quantum-cu12==0.10.0->cudaq->qgear-lightning) (1.8.0)\n",
      "Requirement already satisfied: cutensornet-cu12~=2.7 in /pscratch/sd/g/gzquse/cudaq/lib/python3.11/site-packages (from cuquantum-python-cu12>=25.03->cuda-quantum-cu12==0.10.0->cudaq->qgear-lightning) (2.7.0)\n",
      "Requirement already satisfied: cudensitymat-cu12~=0.1 in /pscratch/sd/g/gzquse/cudaq/lib/python3.11/site-packages (from cuquantum-python-cu12>=25.03->cuda-quantum-cu12==0.10.0->cudaq->qgear-lightning) (0.1.0)\n",
      "Requirement already satisfied: cupy-cuda12x>=13.0 in /pscratch/sd/g/gzquse/cudaq/lib/python3.11/site-packages (from cuquantum-python-cu12>=25.03->cuda-quantum-cu12==0.10.0->cudaq->qgear-lightning) (13.4.1)\n",
      "Requirement already satisfied: nvidia-nvjitlink-cu12 in /pscratch/sd/g/gzquse/cudaq/lib/python3.11/site-packages (from nvidia-cusolver-cu12~=11.4->cuda-quantum-cu12==0.10.0->cudaq->qgear-lightning) (12.6.85)\n",
      "Requirement already satisfied: nvidia-cusparse-cu12 in /pscratch/sd/g/gzquse/cudaq/lib/python3.11/site-packages (from nvidia-cusolver-cu12~=11.4->cuda-quantum-cu12==0.10.0->cudaq->qgear-lightning) (12.5.4.2)\n",
      "Requirement already satisfied: setuptools in /pscratch/sd/g/gzquse/cudaq/lib/python3.11/site-packages (from pbr>=2.0.0->stevedore>=3.0.0->qiskit->qgear-lightning) (75.8.0)\n",
      "Requirement already satisfied: charset-normalizer<4,>=2 in /pscratch/sd/g/gzquse/cudaq/lib/python3.11/site-packages (from requests>=2.31->cuda-quantum-cu12==0.10.0->cudaq->qgear-lightning) (3.4.1)\n",
      "Requirement already satisfied: idna<4,>=2.5 in /pscratch/sd/g/gzquse/cudaq/lib/python3.11/site-packages (from requests>=2.31->cuda-quantum-cu12==0.10.0->cudaq->qgear-lightning) (3.10)\n",
      "Requirement already satisfied: urllib3<3,>=1.21.1 in /pscratch/sd/g/gzquse/cudaq/lib/python3.11/site-packages (from requests>=2.31->cuda-quantum-cu12==0.10.0->cudaq->qgear-lightning) (2.4.0)\n",
      "Requirement already satisfied: certifi>=2017.4.17 in /pscratch/sd/g/gzquse/cudaq/lib/python3.11/site-packages (from requests>=2.31->cuda-quantum-cu12==0.10.0->cudaq->qgear-lightning) (2024.7.4)\n",
      "Requirement already satisfied: cutensor-cu12<3,>=2.2 in /pscratch/sd/g/gzquse/cudaq/lib/python3.11/site-packages (from cudensitymat-cu12~=0.1->cuquantum-python-cu12>=25.03->cuda-quantum-cu12==0.10.0->cudaq->qgear-lightning) (2.2.0)\n",
      "Requirement already satisfied: fastrlock>=0.5 in /pscratch/sd/g/gzquse/cudaq/lib/python3.11/site-packages (from cupy-cuda12x>=13.0->cuquantum-python-cu12>=25.03->cuda-quantum-cu12==0.10.0->cudaq->qgear-lightning) (0.8.3)\n",
      "Downloading qgear_lightning-0.0.1-py3-none-any.whl (11 kB)\n",
      "Installing collected packages: qgear-lightning\n",
      "Successfully installed qgear-lightning-0.0.1\n"
     ]
    }
   ],
   "source": [
    "!pip install qgear-lightning"
   ]
  },
  {
   "cell_type": "code",
   "execution_count": null,
   "metadata": {},
   "outputs": [
    {
     "name": "stderr",
     "output_type": "stream",
     "text": [
      "sh: /pscratch/sd/g/gzquse/cudaq/lib/libtinfo.so.6: no version information available (required by /lib64/libreadline.so.7)\n",
      "sh: /pscratch/sd/g/gzquse/cudaq/lib/libtinfo.so.6: no version information available (required by /lib64/libreadline.so.7)\n"
     ]
    }
   ],
   "source": [
    "import os\n",
    "import numpy as np\n",
    "from qiskit import QuantumCircuit\n",
    "from qgear_lightning.core import qiskit_to_gateList, counts_cudaq_to_qiskit, circ_kernel\n",
    "from qgear_lightning.io import write4_data_hdf5, read4_data_hdf5\n",
    "import cudaq\n",
    "# ----------------------------\n",
    "# 1. Create a simple Qiskit circuit\n",
    "n_qubits = 4\n",
    "qc = QuantumCircuit(n_qubits)\n",
    "qc.h(0)\n",
    "qc.cx(0, 1)\n",
    "qc.ry(np.pi/4, 2)\n",
    "qc.u(np.pi/2, np.pi/4, np.pi/8, 3)\n",
    "qc.measure_all()\n",
    "\n",
    "qcEL = [qc]  # List of circuits\n",
    "numShots = 10000\n",
    "verb = 0\n",
    "backend = \"qpp-cpu\"  \n",
    "\n",
    "# ---------------------------\n",
    "out_path = \"out\"\n",
    "os.makedirs(out_path, exist_ok=True)\n",
    "circ_name = \"toy_example\"\n",
    "\n",
    "# Convert to gate list\n",
    "outD, md = qiskit_to_gateList(qcEL)\n",
    "inpF = os.path.join(out_path, circ_name + \".gate_list.h5\")\n",
    "md[\"short_name\"] = circ_name\n",
    "write4_data_hdf5(outD, inpF, md)\n",
    "num_qubits=0\n",
    "# Load back\n",
    "gateD, MD = read4_data_hdf5(inpF, verb)\n",
    "\n",
    "cudaq.set_target(backend)\n",
    "nc = len(gateD['circ_type'])\n",
    "resL = [0] * nc\n",
    "stateL = [0] * nc\n",
    "for i in range(nc):\n",
    "    num_qubit, num_gate = map(int, gateD['circ_type'][i])\n",
    "    gate_type = list(map(int, gateD['gate_type'][i].flatten()))\n",
    "    gate_param = list(map(float, gateD['gate_param'][i].flatten()))\n",
    "    assert num_gate <= len(gate_param)\n",
    "    prOn = num_qubit < 6 and i == 0 or verb > 1\n",
    "    num_qubits = num_qubit\n",
    "    print(cudaq.draw(circ_kernel, num_qubit, num_gate, gate_type, gate_param))\n"
   ]
  },
  {
   "cell_type": "code",
   "execution_count": null,
   "metadata": {},
   "outputs": [],
   "source": [
    "circ_kernel"
   ]
  }
 ],
 "metadata": {
  "kernelspec": {
   "display_name": "python3",
   "language": "python",
   "name": "python3"
  }
 },
 "nbformat": 4,
 "nbformat_minor": 4
}
