{
 "cells": [
  {
   "cell_type": "markdown",
   "metadata": {},
   "source": [
    "# qgear-lightning"
   ]
  },
  {
   "cell_type": "markdown",
   "metadata": {},
   "source": [
    "## Usage"
   ]
  },
  {
   "cell_type": "markdown",
   "metadata": {},
   "source": [
    "### Installation"
   ]
  },
  {
   "cell_type": "markdown",
   "metadata": {},
   "source": [
    "## How to use"
   ]
  },
  {
   "cell_type": "code",
   "execution_count": null,
   "metadata": {},
   "outputs": [
    {
     "name": "stdout",
     "output_type": "stream",
     "text": [
      "qiskit_to_gateList: nGate 23\n",
      "saving data as hdf5: out/toy_example.gate_list.h5\n",
      "h5-write : circ_type (1, 2) int32\n",
      "h5-write : gate_type (1, 23, 3) int32\n",
      "h5-write : gate_param (1, 23, 3) float32\n",
      "h5-write : meta.JSON as string (1,) object\n",
      "closed  hdf5: out/toy_example.gate_list.h5  size=0.01 MB, elaT=0.0 sec\n",
      "                ╭───╮                \n",
      "q0 : ───────────┤ h ├─────────────●──\n",
      "                ╰───╯           ╭─┴─╮\n",
      "q1 : ───────────────────────────┤ x ├\n",
      "           ╭────────────╮       ╰───╯\n",
      "q2 : ──────┤ ry(0.7854) ├────────────\n",
      "     ╭─────┴────────────┴──────╮     \n",
      "q3 : ┤ u3(1.571,0.7854,0.3927) ├─────\n",
      "     ╰─────────────────────────╯     \n",
      "\n"
     ]
    }
   ],
   "source": [
    "import os\n",
    "import numpy as np\n",
    "from qiskit import QuantumCircuit\n",
    "from qgear_lightning.core import qiskit_to_gateList, counts_cudaq_to_qiskit, circ_kernel\n",
    "from qgear_lightning.io import write4_data_hdf5, read4_data_hdf5\n",
    "import cudaq\n",
    "# ----------------------------\n",
    "# 1. Create a simple Qiskit circuit\n",
    "n_qubits = 4\n",
    "qc = QuantumCircuit(n_qubits)\n",
    "qc.h(0)\n",
    "qc.cx(0, 1)\n",
    "qc.ry(np.pi/4, 2)\n",
    "qc.u(np.pi/2, np.pi/4, np.pi/8, 3)\n",
    "qc.measure_all()\n",
    "\n",
    "qcEL = [qc]  # List of circuits\n",
    "numShots = 10000\n",
    "verb = 0\n",
    "backend = \"qpp-cpu\"  \n",
    "\n",
    "# ---------------------------\n",
    "out_path = \"out\"\n",
    "os.makedirs(out_path, exist_ok=True)\n",
    "circ_name = \"toy_example\"\n",
    "\n",
    "# Convert to gate list\n",
    "outD, md = qiskit_to_gateList(qcEL)\n",
    "inpF = os.path.join(out_path, circ_name + \".gate_list.h5\")\n",
    "md[\"short_name\"] = circ_name\n",
    "write4_data_hdf5(outD, inpF, md)\n",
    "num_qubits=0\n",
    "# Load back\n",
    "gateD, MD = read4_data_hdf5(inpF, verb)\n",
    "\n",
    "cudaq.set_target(backend)\n",
    "nc = len(gateD['circ_type'])\n",
    "resL = [0] * nc\n",
    "stateL = [0] * nc\n",
    "for i in range(nc):\n",
    "    num_qubit, num_gate = map(int, gateD['circ_type'][i])\n",
    "    gate_type = list(map(int, gateD['gate_type'][i].flatten()))\n",
    "    gate_param = list(map(float, gateD['gate_param'][i].flatten()))\n",
    "    assert num_gate <= len(gate_param)\n",
    "    prOn = num_qubit < 6 and i == 0 or verb > 1\n",
    "    num_qubits = num_qubit\n",
    "    print(cudaq.draw(circ_kernel, num_qubit, num_gate, gate_type, gate_param))\n"
   ]
  }
 ],
 "metadata": {
  "kernelspec": {
   "display_name": "Python 3 (ipykernel)",
   "language": "python",
   "name": "python3"
  },
  "language_info": {
   "codemirror_mode": {
    "name": "ipython",
    "version": 3
   },
   "file_extension": ".py",
   "mimetype": "text/x-python",
   "name": "python",
   "nbconvert_exporter": "python",
   "pygments_lexer": "ipython3",
   "version": "3.10.12"
  }
 },
 "nbformat": 4,
 "nbformat_minor": 4
}
